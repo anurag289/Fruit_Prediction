{
 "cells": [
  {
   "cell_type": "code",
   "execution_count": 2,
   "id": "26c428c0",
   "metadata": {},
   "outputs": [],
   "source": [
    "import pandas as pd\n",
    "import matplotlib.pyplot as plt\n",
    "from sklearn.model_selection import train_test_split\n",
    "from sklearn.neighbors import KNeighborsClassifier\n",
    "from sklearn.metrics import confusion_matrix,accuracy_score\n",
    "from sklearn.preprocessing import MinMaxScaler"
   ]
  },
  {
   "cell_type": "code",
   "execution_count": 3,
   "id": "b370cdd1",
   "metadata": {},
   "outputs": [],
   "source": [
    "fruit=pd.read_csv(\"fruits.csv\")"
   ]
  },
  {
   "cell_type": "code",
   "execution_count": 4,
   "id": "41605389",
   "metadata": {},
   "outputs": [
    {
     "data": {
      "text/html": [
       "<div>\n",
       "<style scoped>\n",
       "    .dataframe tbody tr th:only-of-type {\n",
       "        vertical-align: middle;\n",
       "    }\n",
       "\n",
       "    .dataframe tbody tr th {\n",
       "        vertical-align: top;\n",
       "    }\n",
       "\n",
       "    .dataframe thead th {\n",
       "        text-align: right;\n",
       "    }\n",
       "</style>\n",
       "<table border=\"1\" class=\"dataframe\">\n",
       "  <thead>\n",
       "    <tr style=\"text-align: right;\">\n",
       "      <th></th>\n",
       "      <th>color</th>\n",
       "      <th>sphericity</th>\n",
       "      <th>wt</th>\n",
       "      <th>label</th>\n",
       "    </tr>\n",
       "  </thead>\n",
       "  <tbody>\n",
       "    <tr>\n",
       "      <th>0</th>\n",
       "      <td>Orange</td>\n",
       "      <td>0.947</td>\n",
       "      <td>120</td>\n",
       "      <td>Orange</td>\n",
       "    </tr>\n",
       "    <tr>\n",
       "      <th>1</th>\n",
       "      <td>Orange</td>\n",
       "      <td>0.917</td>\n",
       "      <td>125</td>\n",
       "      <td>Orange</td>\n",
       "    </tr>\n",
       "    <tr>\n",
       "      <th>2</th>\n",
       "      <td>Orange</td>\n",
       "      <td>0.923</td>\n",
       "      <td>110</td>\n",
       "      <td>Orange</td>\n",
       "    </tr>\n",
       "    <tr>\n",
       "      <th>3</th>\n",
       "      <td>Orange</td>\n",
       "      <td>0.916</td>\n",
       "      <td>123</td>\n",
       "      <td>Orange</td>\n",
       "    </tr>\n",
       "    <tr>\n",
       "      <th>4</th>\n",
       "      <td>Orange</td>\n",
       "      <td>0.943</td>\n",
       "      <td>124</td>\n",
       "      <td>Orange</td>\n",
       "    </tr>\n",
       "  </tbody>\n",
       "</table>\n",
       "</div>"
      ],
      "text/plain": [
       "    color  sphericity   wt   label\n",
       "0  Orange       0.947  120  Orange\n",
       "1  Orange       0.917  125  Orange\n",
       "2  Orange       0.923  110  Orange\n",
       "3  Orange       0.916  123  Orange\n",
       "4  Orange       0.943  124  Orange"
      ]
     },
     "execution_count": 4,
     "metadata": {},
     "output_type": "execute_result"
    }
   ],
   "source": [
    "fruit.head()"
   ]
  },
  {
   "cell_type": "code",
   "execution_count": 5,
   "id": "351ed931",
   "metadata": {},
   "outputs": [
    {
     "data": {
      "text/html": [
       "<div>\n",
       "<style scoped>\n",
       "    .dataframe tbody tr th:only-of-type {\n",
       "        vertical-align: middle;\n",
       "    }\n",
       "\n",
       "    .dataframe tbody tr th {\n",
       "        vertical-align: top;\n",
       "    }\n",
       "\n",
       "    .dataframe thead th {\n",
       "        text-align: right;\n",
       "    }\n",
       "</style>\n",
       "<table border=\"1\" class=\"dataframe\">\n",
       "  <thead>\n",
       "    <tr style=\"text-align: right;\">\n",
       "      <th></th>\n",
       "      <th>sphericity</th>\n",
       "      <th>wt</th>\n",
       "    </tr>\n",
       "  </thead>\n",
       "  <tbody>\n",
       "    <tr>\n",
       "      <th>count</th>\n",
       "      <td>60.000000</td>\n",
       "      <td>60.000000</td>\n",
       "    </tr>\n",
       "    <tr>\n",
       "      <th>mean</th>\n",
       "      <td>0.820583</td>\n",
       "      <td>142.750000</td>\n",
       "    </tr>\n",
       "    <tr>\n",
       "      <th>std</th>\n",
       "      <td>0.067577</td>\n",
       "      <td>23.352585</td>\n",
       "    </tr>\n",
       "    <tr>\n",
       "      <th>min</th>\n",
       "      <td>0.710000</td>\n",
       "      <td>101.000000</td>\n",
       "    </tr>\n",
       "    <tr>\n",
       "      <th>25%</th>\n",
       "      <td>0.767250</td>\n",
       "      <td>124.000000</td>\n",
       "    </tr>\n",
       "    <tr>\n",
       "      <th>50%</th>\n",
       "      <td>0.823000</td>\n",
       "      <td>143.000000</td>\n",
       "    </tr>\n",
       "    <tr>\n",
       "      <th>75%</th>\n",
       "      <td>0.870500</td>\n",
       "      <td>164.000000</td>\n",
       "    </tr>\n",
       "    <tr>\n",
       "      <th>max</th>\n",
       "      <td>0.947000</td>\n",
       "      <td>184.000000</td>\n",
       "    </tr>\n",
       "  </tbody>\n",
       "</table>\n",
       "</div>"
      ],
      "text/plain": [
       "       sphericity          wt\n",
       "count   60.000000   60.000000\n",
       "mean     0.820583  142.750000\n",
       "std      0.067577   23.352585\n",
       "min      0.710000  101.000000\n",
       "25%      0.767250  124.000000\n",
       "50%      0.823000  143.000000\n",
       "75%      0.870500  164.000000\n",
       "max      0.947000  184.000000"
      ]
     },
     "execution_count": 5,
     "metadata": {},
     "output_type": "execute_result"
    }
   ],
   "source": [
    "fruit.describe()"
   ]
  },
  {
   "cell_type": "code",
   "execution_count": 6,
   "id": "1d3b0ce5",
   "metadata": {},
   "outputs": [
    {
     "data": {
      "image/png": "[encoded data removed]",
      "text/plain": [
       "<Figure size 432x288 with 1 Axes>"
      ]
     },
     "metadata": {
      "needs_background": "light"
     },
     "output_type": "display_data"
    }
   ],
   "source": [
    "plt.scatter(x=fruit['wt'],y=fruit['sphericity'])\n",
    "plt.show()"
   ]
  },
  {
   "cell_type": "code",
   "execution_count": 7,
   "id": "25a96d1c",
   "metadata": {},
   "outputs": [],
   "source": [
    "#here I have speparated the featurs and target values for better prediction\n",
    "X=fruit[['wt','sphericity']]\n",
    "y=fruit['label']"
   ]
  },
  {
   "cell_type": "code",
   "execution_count": 8,
   "id": "5ddee2d7",
   "metadata": {},
   "outputs": [
    {
     "data": {
      "text/html": [
       "<div>\n",
       "<style scoped>\n",
       "    .dataframe tbody tr th:only-of-type {\n",
       "        vertical-align: middle;\n",
       "    }\n",
       "\n",
       "    .dataframe tbody tr th {\n",
       "        vertical-align: top;\n",
       "    }\n",
       "\n",
       "    .dataframe thead th {\n",
       "        text-align: right;\n",
       "    }\n",
       "</style>\n",
       "<table border=\"1\" class=\"dataframe\">\n",
       "  <thead>\n",
       "    <tr style=\"text-align: right;\">\n",
       "      <th></th>\n",
       "      <th>wt</th>\n",
       "      <th>sphericity</th>\n",
       "    </tr>\n",
       "  </thead>\n",
       "  <tbody>\n",
       "    <tr>\n",
       "      <th>0</th>\n",
       "      <td>120</td>\n",
       "      <td>0.947</td>\n",
       "    </tr>\n",
       "    <tr>\n",
       "      <th>1</th>\n",
       "      <td>125</td>\n",
       "      <td>0.917</td>\n",
       "    </tr>\n",
       "    <tr>\n",
       "      <th>2</th>\n",
       "      <td>110</td>\n",
       "      <td>0.923</td>\n",
       "    </tr>\n",
       "    <tr>\n",
       "      <th>3</th>\n",
       "      <td>123</td>\n",
       "      <td>0.916</td>\n",
       "    </tr>\n",
       "    <tr>\n",
       "      <th>4</th>\n",
       "      <td>124</td>\n",
       "      <td>0.943</td>\n",
       "    </tr>\n",
       "  </tbody>\n",
       "</table>\n",
       "</div>"
      ],
      "text/plain": [
       "    wt  sphericity\n",
       "0  120       0.947\n",
       "1  125       0.917\n",
       "2  110       0.923\n",
       "3  123       0.916\n",
       "4  124       0.943"
      ]
     },
     "execution_count": 8,
     "metadata": {},
     "output_type": "execute_result"
    }
   ],
   "source": [
    "X.head()"
   ]
  },
  {
   "cell_type": "code",
   "execution_count": 9,
   "id": "a9504855",
   "metadata": {},
   "outputs": [
    {
     "data": {
      "text/plain": [
       "0    Orange\n",
       "1    Orange\n",
       "2    Orange\n",
       "3    Orange\n",
       "4    Orange\n",
       "Name: label, dtype: object"
      ]
     },
     "execution_count": 9,
     "metadata": {},
     "output_type": "execute_result"
    }
   ],
   "source": [
    "y.head()"
   ]
  },
  {
   "cell_type": "code",
   "execution_count": 10,
   "id": "70f3237b",
   "metadata": {},
   "outputs": [],
   "source": [
    "X_train,X_test,y_train,y_test=train_test_split(X,y,test_size=0.25)"
   ]
  },
  {
   "cell_type": "code",
   "execution_count": 11,
   "id": "6beaf9f8",
   "metadata": {},
   "outputs": [
    {
     "data": {
      "image/png": "[encoded data removed]",
      "text/plain": [
       "<Figure size 432x288 with 1 Axes>"
      ]
     },
     "metadata": {
      "needs_background": "light"
     },
     "output_type": "display_data"
    }
   ],
   "source": [
    "plt.scatter(x='sphericity',y='wt',data=X_train[y_train=='Apple'],c='red',label='Train apple')\n",
    "plt.legend()\n",
    "plt.show()"
   ]
  },
  {
   "cell_type": "code",
   "execution_count": 12,
   "id": "25b14f58",
   "metadata": {},
   "outputs": [
    {
     "data": {
      "image/png": "[encoded data removed]",
      "text/plain": [
       "<Figure size 432x288 with 1 Axes>"
      ]
     },
     "metadata": {
      "needs_background": "light"
     },
     "output_type": "display_data"
    }
   ],
   "source": [
    "plt.scatter(x='sphericity',y='wt',data=X_train[y_train=='Orange'],c='orange',label='Train orange')\n",
    "plt.legend()\n",
    "plt.show()"
   ]
  },
  {
   "cell_type": "code",
   "execution_count": 13,
   "id": "be05d7a4",
   "metadata": {},
   "outputs": [
    {
     "data": {
      "image/png": "[encoded data removed]",
      "text/plain": [
       "<Figure size 432x288 with 1 Axes>"
      ]
     },
     "metadata": {
      "needs_background": "light"
     },
     "output_type": "display_data"
    }
   ],
   "source": [
    "plt.scatter(x='sphericity',y='wt',data=X_train[y_train=='Apple'],c='red',label='Train apple')\n",
    "plt.scatter(x='sphericity',y='wt',data=X_train[y_train=='Orange'],c='orange',label='Train orange')\n",
    "\n",
    "plt.legend()\n",
    "plt.show()\n",
    "\n",
    "#we can celarly see from the plot that "
   ]
  },
  {
   "cell_type": "code",
   "execution_count": 14,
   "id": "49cb291b",
   "metadata": {},
   "outputs": [
    {
     "data": {
      "image/png": "[encoded data removed]",
      "text/plain": [
       "<Figure size 432x288 with 1 Axes>"
      ]
     },
     "metadata": {
      "needs_background": "light"
     },
     "output_type": "display_data"
    }
   ],
   "source": [
    "plt.scatter(x='sphericity',y='wt',data=X_train[y_train=='Apple'],c='red',label='Train apple')\n",
    "plt.scatter(x='sphericity',y='wt',data=X_train[y_train=='Orange'],c='orange',label='Train orange')\n",
    "plt.scatter(x='sphericity',y='wt',data=X_test,c='green',label='test data',marker='*',s=100)\n",
    "\n",
    "\n",
    "plt.legend()\n",
    "plt.show()\n",
    "\n",
    "#we can celarly see from the plot that "
   ]
  },
  {
   "cell_type": "code",
   "execution_count": 15,
   "id": "3e6aed48",
   "metadata": {},
   "outputs": [
    {
     "name": "stdout",
     "output_type": "stream",
     "text": [
      "Orange    25\n",
      "Apple     20\n",
      "Name: label, dtype: int64\n"
     ]
    },
    {
     "data": {
      "text/plain": [
       "array([[9, 1],\n",
       "       [0, 5]], dtype=int64)"
      ]
     },
     "execution_count": 15,
     "metadata": {},
     "output_type": "execute_result"
    }
   ],
   "source": [
    "from sklearn.neighbors import KNeighborsClassifier  # importing KNN algorithm \n",
    "knn = KNeighborsClassifier(n_neighbors=5,weights='distance') # using the neighbour as 5 and weights as ditance\n",
    "knn.fit(X_train,y_train)#traing with the data available\n",
    "y_predict=knn.predict(X_test)\n",
    "print(y_train.value_counts())\n",
    "confusion_matrix(y_test,y_predict)"
   ]
  },
  {
   "cell_type": "code",
   "execution_count": 16,
   "id": "942f9717",
   "metadata": {},
   "outputs": [],
   "source": [
    "def plot_fruit():\n",
    "    plt.scatter(x='sphericity',y='wt',data=X_train[y_train=='Apple'],c='red',label='Train apple')\n",
    "    plt.scatter(x='sphericity',y='wt',data=X_train[y_train=='Orange'],c='orange',label='Train orange')\n",
    "    plt.scatter(x='sphericity',y='wt',data=X_test[y_test==y_predict],c='green',label='correct classification')\n",
    "    plt.scatter(x='sphericity',y='wt',data=X_test[y_test!=y_predict],c='yellow',label='wrong classification')\n",
    "    plt.xlabel(\"Sphericity\")\n",
    "    plt.ylabel(\"weight\")\n",
    "    plt.legend()\n",
    "    plt.show()"
   ]
  },
  {
   "cell_type": "code",
   "execution_count": 17,
   "id": "ca251943",
   "metadata": {},
   "outputs": [
    {
     "name": "stdout",
     "output_type": "stream",
     "text": [
      "Orange    23\n",
      "Apple     22\n",
      "Name: label, dtype: int64\n",
      "[[6 2]\n",
      " [0 7]]\n"
     ]
    },
    {
     "data": {
      "image/png": "[encoded data removed]",
      "text/plain": [
       "<Figure size 432x288 with 1 Axes>"
      ]
     },
     "metadata": {
      "needs_background": "light"
     },
     "output_type": "display_data"
    }
   ],
   "source": [
    "#here I have speparated the featurs and target values for better prediction\n",
    "X=fruit[['wt','sphericity']]\n",
    "y=fruit['label']\n",
    "X_train,X_test,y_train,y_test=train_test_split(X,y,test_size=0.25)\n",
    "from sklearn.neighbors import KNeighborsClassifier  # importing KNN algorithm \n",
    "knn = KNeighborsClassifier(n_neighbors=5,weights='distance') # using the neighbour as 5 and weights as ditance\n",
    "knn.fit(X_train,y_train)#traing with the data available\n",
    "y_predict=knn.predict(X_test)\n",
    "print(y_train.value_counts())\n",
    "print(confusion_matrix(y_test,y_predict))\n",
    "plot_fruit()"
   ]
  },
  {
   "cell_type": "code",
   "execution_count": 18,
   "id": "50ffa936",
   "metadata": {},
   "outputs": [
    {
     "name": "stdout",
     "output_type": "stream",
     "text": [
      "Apple     23\n",
      "Orange    22\n",
      "Name: label, dtype: int64\n",
      "[[7 0]\n",
      " [1 7]]\n"
     ]
    },
    {
     "data": {
      "image/png": "[encoded data removed]",
      "text/plain": [
       "<Figure size 432x288 with 1 Axes>"
      ]
     },
     "metadata": {
      "needs_background": "light"
     },
     "output_type": "display_data"
    }
   ],
   "source": [
    "#here I have speparated the featurs and target values for better prediction\n",
    "X=fruit[['wt','sphericity']]\n",
    "y=fruit['label']\n",
    "scaling=MinMaxScaler()\n",
    "X=pd.DataFrame(scaling.fit_transform(X),columns=['sphericity','wt'])\n",
    "X_train,X_test,y_train,y_test=train_test_split(X,y,test_size=0.25)\n",
    "from sklearn.neighbors import KNeighborsClassifier  # importing KNN algorithm \n",
    "knn = KNeighborsClassifier(n_neighbors=5,weights='distance') # using the neighbour as 5 and weights as ditance\n",
    "knn.fit(X_train,y_train)#traing with the data available\n",
    "y_predict=knn.predict(X_test)\n",
    "print(y_train.value_counts())\n",
    "print(confusion_matrix(y_test,y_predict))\n",
    "plot_fruit()"
   ]
  },
  {
   "cell_type": "code",
   "execution_count": 19,
   "id": "1a883758",
   "metadata": {},
   "outputs": [
    {
     "name": "stdout",
     "output_type": "stream",
     "text": [
      "       sphericity         wt\n",
      "count   60.000000  60.000000\n",
      "mean     0.503012   0.466596\n",
      "std      0.281356   0.285133\n",
      "min      0.000000   0.000000\n",
      "25%      0.277108   0.241561\n",
      "50%      0.506024   0.476793\n",
      "75%      0.759036   0.677215\n",
      "max      1.000000   1.000000\n",
      "['Orange' 'Orange' 'Apple' 'Apple' 'Orange' 'Apple' 'Apple' 'Apple'\n",
      " 'Orange' 'Apple' 'Apple' 'Apple' 'Apple' 'Orange' 'Apple']\n",
      "[[10  0]\n",
      " [ 0  5]]\n"
     ]
    },
    {
     "data": {
      "image/png": "[encoded data removed]",
      "text/plain": [
       "<Figure size 432x288 with 1 Axes>"
      ]
     },
     "metadata": {
      "needs_background": "light"
     },
     "output_type": "display_data"
    }
   ],
   "source": [
    "X = fruit[['wt','sphericity']]\n",
    "y = fruit['label']\n",
    "scaling = MinMaxScaler()\n",
    "X = pd.DataFrame(scaling.fit_transform(X),columns=['sphericity','wt'])\n",
    "print(X.describe())\n",
    "X_train,X_test,y_train,y_test  = train_test_split(X,y,test_size=0.25,random_state=42)\n",
    "from sklearn.neighbors import KNeighborsClassifier\n",
    "knn = KNeighborsClassifier(n_neighbors=5,weights='distance')\n",
    "knn.fit(X_train,y_train)\n",
    "y_predict = knn.predict(X_test)\n",
    "print(y_predict)\n",
    "print(confusion_matrix(y_test,y_predict))\n",
    "plot_fruit()"
   ]
  },
  {
   "cell_type": "markdown",
   "id": "68c2978d",
   "metadata": {},
   "source": [
    "## KNN wihout scaling and weights = uniform"
   ]
  },
  {
   "cell_type": "code",
   "execution_count": 20,
   "id": "5c7863ba",
   "metadata": {},
   "outputs": [
    {
     "name": "stdout",
     "output_type": "stream",
     "text": [
      "Orange    24\n",
      "Apple     21\n",
      "Name: label, dtype: int64\n",
      "0.9333333333333333\n",
      "1.0\n",
      "1.0\n",
      "1.0\n",
      "0.9333333333333333\n",
      "0.9333333333333333\n",
      "1.0\n",
      "1.0\n",
      "0.9333333333333333\n",
      "0.9333333333333333\n"
     ]
    },
    {
     "data": {
      "image/png": "[encoded data removed]",
      "text/plain": [
       "<Figure size 432x288 with 1 Axes>"
      ]
     },
     "metadata": {
      "needs_background": "light"
     },
     "output_type": "display_data"
    }
   ],
   "source": [
    "X = fruit[['wt','sphericity']]\n",
    "y = fruit['label']\n",
    "X_train,X_test,y_train,y_test  = train_test_split(X,y,test_size=0.25)\n",
    "print(y_train.value_counts())\n",
    "accuracy=[]\n",
    "r = range(1,20,2)\n",
    "for k in r:\n",
    "    clf = KNeighborsClassifier(n_neighbors=k)\n",
    "    clf.fit(X_train,y_train)\n",
    "    print(clf.score(X_test,y_test))\n",
    "    accuracy.append(clf.score(X_test,y_test))\n",
    "    \n",
    "plt.plot(r,accuracy,marker='o')\n",
    "plt.xlabel(\"Neighbours\")\n",
    "plt.ylabel(\"Accuracy\")\n",
    "plt.title(\"KNN without scaling\")\n",
    "plt.show()"
   ]
  },
  {
   "cell_type": "markdown",
   "id": "9445f99c",
   "metadata": {},
   "source": [
    "## KNN with scaling weights = uniform"
   ]
  },
  {
   "cell_type": "code",
   "execution_count": 21,
   "id": "8a6b6f38",
   "metadata": {},
   "outputs": [
    {
     "name": "stdout",
     "output_type": "stream",
     "text": [
      "Orange    23\n",
      "Apple     22\n",
      "Name: label, dtype: int64\n",
      "0.9333333333333333\n",
      "1.0\n",
      "1.0\n",
      "0.9333333333333333\n",
      "0.9333333333333333\n",
      "0.9333333333333333\n",
      "0.9333333333333333\n",
      "0.9333333333333333\n",
      "0.9333333333333333\n",
      "0.9333333333333333\n"
     ]
    },
    {
     "data": {
      "image/png": "[encoded data removed]",
      "text/plain": [
       "<Figure size 432x288 with 1 Axes>"
      ]
     },
     "metadata": {
      "needs_background": "light"
     },
     "output_type": "display_data"
    }
   ],
   "source": [
    "X = fruit[['wt','sphericity']]\n",
    "y = fruit['label']\n",
    "Scaler = MinMaxScaler()\n",
    "X = pd.DataFrame(scaling.fit_transform(X),columns=['sphericity','wt'])\n",
    "X_train,X_test,y_train,y_test  = train_test_split(X,y,test_size=0.25)\n",
    "print(y_train.value_counts())\n",
    "accuracy=[]\n",
    "r = range(1,20,2)\n",
    "for k in r:\n",
    "    clf = KNeighborsClassifier(n_neighbors=k)\n",
    "    clf.fit(X_train,y_train)\n",
    "    print(clf.score(X_test,y_test))\n",
    "    accuracy.append(clf.score(X_test,y_test))\n",
    "    \n",
    "plt.plot(r,accuracy,marker='o')\n",
    "plt.xlabel(\"Neighbours\")\n",
    "plt.ylabel(\"Accuracy\")\n",
    "plt.title(\"KNN with scaling\")\n",
    "plt.show()"
   ]
  },
  {
   "cell_type": "markdown",
   "id": "21a17b7b",
   "metadata": {},
   "source": [
    "## KNN with scaling and Startify enabled and weights = uniform"
   ]
  },
  {
   "cell_type": "code",
   "execution_count": 22,
   "id": "ecdd8aa1",
   "metadata": {},
   "outputs": [
    {
     "name": "stdout",
     "output_type": "stream",
     "text": [
      "Apple     23\n",
      "Orange    22\n",
      "Name: label, dtype: int64\n",
      "0.9333333333333333\n",
      "1.0\n",
      "1.0\n",
      "1.0\n",
      "1.0\n",
      "1.0\n",
      "1.0\n",
      "1.0\n",
      "1.0\n",
      "1.0\n"
     ]
    },
    {
     "data": {
      "image/png": "[encoded data removed]",
      "text/plain": [
       "<Figure size 432x288 with 1 Axes>"
      ]
     },
     "metadata": {
      "needs_background": "light"
     },
     "output_type": "display_data"
    }
   ],
   "source": [
    "X = fruit[['wt','sphericity']]\n",
    "y = fruit['label']\n",
    "Scaler = MinMaxScaler()\n",
    "X = pd.DataFrame(scaling.fit_transform(X),columns=['sphericity','wt'])\n",
    "X_train,X_test,y_train,y_test  = train_test_split(X,y,test_size=0.25,stratify=y)\n",
    "print(y_train.value_counts())\n",
    "accuracy=[]\n",
    "r = range(1,20,2)\n",
    "for k in r:\n",
    "    clf = KNeighborsClassifier(n_neighbors=k)\n",
    "    clf.fit(X_train,y_train)\n",
    "    print(clf.score(X_test,y_test))\n",
    "    accuracy.append(clf.score(X_test,y_test))\n",
    "    \n",
    "plt.plot(r,accuracy,marker='o')\n",
    "plt.xlabel(\"Neighbours\")\n",
    "plt.ylabel(\"Accuracy\")\n",
    "plt.title(\"KNN with scaling, startify enabled\")\n",
    "plt.show()"
   ]
  },
  {
   "cell_type": "markdown",
   "id": "030f255d",
   "metadata": {},
   "source": [
    "## KNN with scaling and stratify enabled with weights = distance"
   ]
  },
  {
   "cell_type": "code",
   "execution_count": 23,
   "id": "508676e0",
   "metadata": {},
   "outputs": [
    {
     "name": "stdout",
     "output_type": "stream",
     "text": [
      "Orange    23\n",
      "Apple     22\n",
      "Name: label, dtype: int64\n",
      "0.9333333333333333\n",
      "1.0\n",
      "1.0\n",
      "1.0\n",
      "1.0\n",
      "1.0\n",
      "1.0\n",
      "1.0\n",
      "1.0\n",
      "1.0\n"
     ]
    },
    {
     "data": {
      "image/png": "[encoded data removed]",
      "text/plain": [
       "<Figure size 432x288 with 1 Axes>"
      ]
     },
     "metadata": {
      "needs_background": "light"
     },
     "output_type": "display_data"
    }
   ],
   "source": [
    "X = fruit[['wt','sphericity']]\n",
    "y = fruit['label']\n",
    "Scaler = MinMaxScaler()\n",
    "X = pd.DataFrame(scaling.fit_transform(X),columns=['sphericity','wt'])\n",
    "X_train,X_test,y_train,y_test  = train_test_split(X,y,test_size=0.25,stratify=y)\n",
    "print(y_train.value_counts())\n",
    "accuracy=[]\n",
    "r = range(1,20,2)\n",
    "for k in r:\n",
    "    clf = KNeighborsClassifier(n_neighbors=k,weights='distance')\n",
    "    clf.fit(X_train,y_train)\n",
    "    print(clf.score(X_test,y_test))\n",
    "    accuracy.append(clf.score(X_test,y_test))\n",
    "    \n",
    "plt.plot(r,accuracy,marker='o')\n",
    "plt.xlabel(\"Neighbours\")\n",
    "plt.ylabel(\"Accuracy\")\n",
    "plt.title(\"KNN with scaling,starify enabled and weights=distance\")\n",
    "plt.show()"
   ]
  },
  {
   "cell_type": "markdown",
   "id": "c6c476ec",
   "metadata": {},
   "source": [
    "## KNN with scaling and stratify enabled with weights = distance and applying euclidian and manhatten formula"
   ]
  },
  {
   "cell_type": "code",
   "execution_count": 24,
   "id": "6d60eeec",
   "metadata": {},
   "outputs": [
    {
     "name": "stdout",
     "output_type": "stream",
     "text": [
      "Apple     23\n",
      "Orange    22\n",
      "Name: label, dtype: int64\n",
      "0.9333333333333333\n",
      "0.9333333333333333\n",
      "0.9333333333333333\n",
      "0.9333333333333333\n",
      "0.9333333333333333\n",
      "0.8666666666666667\n",
      "0.8666666666666667\n",
      "0.8666666666666667\n",
      "0.8666666666666667\n",
      "0.8666666666666667\n"
     ]
    },
    {
     "data": {
      "image/png": "[encoded data removed]",
      "text/plain": [
       "<Figure size 432x288 with 1 Axes>"
      ]
     },
     "metadata": {
      "needs_background": "light"
     },
     "output_type": "display_data"
    },
    {
     "name": "stdout",
     "output_type": "stream",
     "text": [
      "Apple     23\n",
      "Orange    22\n",
      "Name: label, dtype: int64\n",
      "0.9333333333333333\n",
      "0.9333333333333333\n",
      "1.0\n",
      "1.0\n",
      "1.0\n",
      "1.0\n",
      "1.0\n",
      "1.0\n",
      "1.0\n",
      "1.0\n"
     ]
    },
    {
     "data": {
      "image/png": "[encoded data removed]",
      "text/plain": [
       "<Figure size 432x288 with 1 Axes>"
      ]
     },
     "metadata": {
      "needs_background": "light"
     },
     "output_type": "display_data"
    }
   ],
   "source": [
    "X = fruit[['wt','sphericity']]\n",
    "y = fruit['label']\n",
    "Scaler = MinMaxScaler()\n",
    "X = pd.DataFrame(scaling.fit_transform(X),columns=['sphericity','wt'])\n",
    "X_train,X_test,y_train,y_test  = train_test_split(X,y,test_size=0.25,stratify=y)\n",
    "print(y_train.value_counts())\n",
    "accuracy=[]\n",
    "r = range(1,20,2)\n",
    "for k in r:\n",
    "    clf = KNeighborsClassifier(n_neighbors=k,weights='distance')\n",
    "    clf.fit(X_train,y_train)\n",
    "    print(clf.score(X_test,y_test))\n",
    "    accuracy.append(clf.score(X_test,y_test))\n",
    "    \n",
    "plt.plot(r,accuracy,marker='o')\n",
    "plt.xlabel(\"Neighbours\")\n",
    "plt.ylabel(\"Accuracy\")\n",
    "plt.title(\"KNN with scaling, startify, weights =distance and formula used in euclidiean\")\n",
    "plt.show()\n",
    "\n",
    "X = fruit[['wt','sphericity']]\n",
    "y = fruit['label']\n",
    "Scaler = MinMaxScaler()\n",
    "X = pd.DataFrame(scaling.fit_transform(X),columns=['sphericity','wt'])\n",
    "X_train,X_test,y_train,y_test  = train_test_split(X,y,test_size=0.25,stratify=y)\n",
    "print(y_train.value_counts())\n",
    "accuracy=[]\n",
    "r = range(1,20,2)\n",
    "for k in r:\n",
    "    clf = KNeighborsClassifier(n_neighbors=k,weights='distance',p=1)\n",
    "    clf.fit(X_train,y_train)\n",
    "    print(clf.score(X_test,y_test))\n",
    "    accuracy.append(clf.score(X_test,y_test))\n",
    "    \n",
    "plt.plot(r,accuracy,marker='o')\n",
    "plt.xlabel(\"Neighbours\")\n",
    "plt.ylabel(\"Accuracy\")\n",
    "plt.title(\"KNN with scaling, startify, weights =distance and formula used in manahatten\")\n",
    "plt.show()"
   ]
  },
  {
   "cell_type": "markdown",
   "id": "fb7e4b61",
   "metadata": {},
   "source": [
    "## by regressing the module multiple time found that its better to make our model use with below specs\n",
    "\n",
    "###Scaling enabled\n",
    "###Stratify enabled\n",
    "###weights = distance\n",
    "###formula = euclidiean"
   ]
  },
  {
   "cell_type": "code",
   "execution_count": 31,
   "id": "f6949037",
   "metadata": {},
   "outputs": [
    {
     "name": "stdout",
     "output_type": "stream",
     "text": [
      "Apple     23\n",
      "Orange    22\n",
      "Name: label, dtype: int64\n",
      "    sphericity        wt\n",
      "39    0.710843  0.071730\n",
      "54    0.795181  0.476793\n",
      "16    0.084337  0.683544\n",
      "7     0.048193  0.877637\n",
      "8     0.373494  0.860759\n",
      "0.9333333333333333\n",
      "Apple\n",
      "Thats an apple which keeps dcotor away\n",
      "    sphericity        wt\n",
      "39    0.710843  0.071730\n",
      "54    0.795181  0.476793\n",
      "16    0.084337  0.683544\n",
      "7     0.048193  0.877637\n",
      "8     0.373494  0.860759\n",
      "39     Apple\n",
      "54     Apple\n",
      "16    Orange\n",
      "7     Orange\n",
      "8     Orange\n",
      "Name: label, dtype: object\n"
     ]
    }
   ],
   "source": [
    "#we will now pickel the highest accuract model for further deployment\n",
    "\n",
    "X = fruit[['wt','sphericity']]\n",
    "y = fruit['label']\n",
    "Scaler = MinMaxScaler()\n",
    "X = pd.DataFrame(scaling.fit_transform(X),columns=['sphericity','wt'])\n",
    "X_train,X_test,y_train,y_test  = train_test_split(X,y,test_size=0.25,stratify=y)\n",
    "print(y_train.value_counts())\n",
    "print(X_train.head())\n",
    "Knear = KNeighborsClassifier(n_neighbors=5,weights='distance')\n",
    "Knear.fit(X_train,y_train)\n",
    "print(Knear.score(X_test,y_test))\n",
    "\n",
    "'''plt.plot(r,accuracy,marker='o')\n",
    "\n",
    "knn.fit(X_train,y_train)#traing with the data available\n",
    "y_predict=knn.predict(X_test)\n",
    "print(y_train.value_counts())\n",
    "confusion_matrix(y_test,y_predict)'''\n",
    "\n",
    "prediction=Knear.predict([[0.614458,0.443038]])\n",
    "output=prediction[0]\n",
    "print(output)\n",
    "if output==\"Orange\":\n",
    "   print(\"Thats an Orange\")\n",
    "else:\n",
    "   print(\"Thats an apple which keeps dcotor away\")\n",
    "\n",
    "\n",
    "\n",
    "print(X_train.head())\n",
    "print(y_train.head())\n",
    "import pickle\n",
    "#opening the file where I want to store the data; wb is write byte mode\n",
    "file=open('Knearforfruits.pkl','wb')\n",
    "\n",
    "#dummp the info in that file\n",
    "pickle.dump(Knear, file)\n"
   ]
  },
  {
   "cell_type": "code",
   "execution_count": 32,
   "id": "f16e33cc",
   "metadata": {},
   "outputs": [
    {
     "name": "stdout",
     "output_type": "stream",
     "text": [
      "Orange    23\n",
      "Apple     22\n",
      "Name: label, dtype: int64\n",
      "     wt  sphericity\n",
      "36  173       0.775\n",
      "23  141       0.809\n",
      "50  142       0.784\n",
      "47  154       0.845\n",
      "46  164       0.803\n",
      "0.8666666666666667\n",
      "Orange\n",
      "Thats an Orange\n",
      "     wt  sphericity\n",
      "36  173       0.775\n",
      "23  141       0.809\n",
      "50  142       0.784\n",
      "47  154       0.845\n",
      "46  164       0.803\n",
      "36     Apple\n",
      "23    Orange\n",
      "50     Apple\n",
      "47     Apple\n",
      "46     Apple\n",
      "Name: label, dtype: object\n"
     ]
    }
   ],
   "source": [
    "#we will now pickel the highest accuract model for further deployment without scaling\n",
    "\n",
    "X = fruit[['wt','sphericity']]\n",
    "y = fruit['label']\n",
    "#Scaler = MinMaxScaler()\n",
    "#X = pd.DataFrame(scaling.fit_transform(X),columns=['sphericity','wt'])\n",
    "X_train,X_test,y_train,y_test  = train_test_split(X,y,test_size=0.25,stratify=y)\n",
    "print(y_train.value_counts())\n",
    "print(X_train.head())\n",
    "Knear = KNeighborsClassifier(n_neighbors=5,weights='distance')\n",
    "Knear.fit(X_train,y_train)\n",
    "print(Knear.score(X_test,y_test))\n",
    "\n",
    "'''plt.plot(r,accuracy,marker='o')\n",
    "\n",
    "knn.fit(X_train,y_train)#traing with the data available\n",
    "y_predict=knn.predict(X_test)\n",
    "print(y_train.value_counts())\n",
    "confusion_matrix(y_test,y_predict)'''\n",
    "\n",
    "#prediction=Knear.predict([[0.614458,0.443038]])\n",
    "output=prediction[0]\n",
    "print(output)\n",
    "if output==\"Orange\":\n",
    "   print(\"Thats an Orange\")\n",
    "else:\n",
    "   print(\"Thats an apple which keeps dcotor away\")\n",
    "\n",
    "\n",
    "\n",
    "print(X_train.head())\n",
    "print(y_train.head())\n",
    "import pickle\n",
    "#opening the file where I want to store the data; wb is write byte mode\n",
    "file=open('Knearforfruits.pkl','wb')\n",
    "\n",
    "#dummp the info in that file\n",
    "pickle.dump(Knear, file)\n"
   ]
  },
  {
   "cell_type": "code",
   "execution_count": null,
   "id": "1d8ac833",
   "metadata": {},
   "outputs": [],
   "source": []
  }
 ],
 "metadata": {
  "kernelspec": {
   "display_name": "Python 3 (ipykernel)",
   "language": "python",
   "name": "python3"
  },
  "language_info": {
   "codemirror_mode": {
    "name": "ipython",
    "version": 3
   },
   "file_extension": ".py",
   "mimetype": "text/x-python",
   "name": "python",
   "nbconvert_exporter": "python",
   "pygments_lexer": "ipython3",
   "version": "3.8.8"
  }
 },
 "nbformat": 4,
 "nbformat_minor": 5
}
